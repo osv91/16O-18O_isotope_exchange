{
 "cells": [
  {
   "cell_type": "markdown",
   "metadata": {},
   "source": [
    "# Using 16O/18O exchange for enhanced LC-MS identification\n"
   ]
  },
  {
   "cell_type": "markdown",
   "metadata": {},
   "source": [
    "Import libraries. For correct work we need rdkit v. 2020.09.1, PubChemPy v.1.0.4. \n",
    "File O18.py includes functions to calculate max number of exchanges\n",
    "File Isomers.py includes functions to retrieve and clean isomers list\n",
    "File Fragmentation trees includes functions to calculate a tree"
   ]
  },
  {
   "cell_type": "code",
   "execution_count": 1,
   "metadata": {},
   "outputs": [
    {
     "name": "stdout",
     "output_type": "stream",
     "text": [
      "INFO: Pandarallel will run on 8 workers.\n",
      "INFO: Pandarallel will use Memory file system to transfer data between the main process and workers.\n"
     ]
    }
   ],
   "source": [
    "from O18 import *\n",
    "from isomers import *\n",
    "from pandarallel import pandarallel\n",
    "pandarallel.initialize(progress_bar=True)\n",
    "from rdkit.Chem import Draw\n",
    "from tqdm import tqdm\n",
    "tqdm.pandas()\n"
   ]
  },
  {
   "cell_type": "markdown",
   "metadata": {},
   "source": [
    "Insert formula here"
   ]
  },
  {
   "cell_type": "code",
   "execution_count": 2,
   "metadata": {},
   "outputs": [],
   "source": [
    "#formula = 'C16H14O3' #ketoprofen\n",
    "#formula = 'C19H28O2' #testosterone\n",
    "#formula = 'C20H21O4Cl' #Fenofibrate\n",
    "#formula = \"C16H13N3O3\" #mebendazole\n",
    "#formula = \"C25H34O6\" #budesonide\n",
    "formula = 'C19H16O4' #warfarin"
   ]
  },
  {
   "cell_type": "code",
   "execution_count": 3,
   "metadata": {},
   "outputs": [],
   "source": [
    "isomers = get_isomers_for_formula(formula)"
   ]
  },
  {
   "cell_type": "markdown",
   "metadata": {},
   "source": [
    "Insert experimentally observed number of exchanges here"
   ]
  },
  {
   "cell_type": "code",
   "execution_count": 4,
   "metadata": {},
   "outputs": [],
   "source": [
    "N = 1"
   ]
  },
  {
   "cell_type": "code",
   "execution_count": 5,
   "metadata": {},
   "outputs": [],
   "source": [
    "filtered  = clean_O18_MS1(isomers, N, formula)"
   ]
  },
  {
   "cell_type": "code",
   "execution_count": 6,
   "metadata": {},
   "outputs": [
    {
     "data": {
      "text/html": [
       "<div>\n",
       "<style scoped>\n",
       "    .dataframe tbody tr th:only-of-type {\n",
       "        vertical-align: middle;\n",
       "    }\n",
       "\n",
       "    .dataframe tbody tr th {\n",
       "        vertical-align: top;\n",
       "    }\n",
       "\n",
       "    .dataframe thead th {\n",
       "        text-align: right;\n",
       "    }\n",
       "</style>\n",
       "<table border=\"1\" class=\"dataframe\">\n",
       "  <thead>\n",
       "    <tr style=\"text-align: right;\">\n",
       "      <th></th>\n",
       "      <th>InChI</th>\n",
       "      <th>N</th>\n",
       "    </tr>\n",
       "  </thead>\n",
       "  <tbody>\n",
       "    <tr>\n",
       "      <th>0</th>\n",
       "      <td>InChI=1S/C19H16O4/c1-12(20)11-15(13-7-3-2-4-8-...</td>\n",
       "      <td>1</td>\n",
       "    </tr>\n",
       "    <tr>\n",
       "      <th>1</th>\n",
       "      <td>InChI=1S/C19H16O4/c20-16-7-1-14(2-8-16)5-11-18...</td>\n",
       "      <td>2</td>\n",
       "    </tr>\n",
       "    <tr>\n",
       "      <th>3</th>\n",
       "      <td>InChI=1S/C19H16O4/c20-16-7-1-14(2-8-16)5-11-18...</td>\n",
       "      <td>1</td>\n",
       "    </tr>\n",
       "    <tr>\n",
       "      <th>6</th>\n",
       "      <td>InChI=1S/C19H16O4/c1-3-23-19(21)17-16(12-7-5-4...</td>\n",
       "      <td>1</td>\n",
       "    </tr>\n",
       "    <tr>\n",
       "      <th>7</th>\n",
       "      <td>InChI=1S/C19H16O4/c1-12-8-16(22-11-13(2)20)19-...</td>\n",
       "      <td>1</td>\n",
       "    </tr>\n",
       "    <tr>\n",
       "      <th>...</th>\n",
       "      <td>...</td>\n",
       "      <td>...</td>\n",
       "    </tr>\n",
       "    <tr>\n",
       "      <th>1605</th>\n",
       "      <td>InChI=1S/C19H16O4/c20-18(21)16-9-5-4-8-15(16)1...</td>\n",
       "      <td>4</td>\n",
       "    </tr>\n",
       "    <tr>\n",
       "      <th>1606</th>\n",
       "      <td>InChI=1S/C19H16O4/c1-11(19(21)22)17-13-7-3-5-9...</td>\n",
       "      <td>2</td>\n",
       "    </tr>\n",
       "    <tr>\n",
       "      <th>1607</th>\n",
       "      <td>InChI=1S/C19H16O4/c1-2-22-17-12-11-14(13-7-3-4...</td>\n",
       "      <td>2</td>\n",
       "    </tr>\n",
       "    <tr>\n",
       "      <th>1608</th>\n",
       "      <td>InChI=1S/C19H16O4/c1-2-7-23-19(22)17-11-15-9-1...</td>\n",
       "      <td>2</td>\n",
       "    </tr>\n",
       "    <tr>\n",
       "      <th>1609</th>\n",
       "      <td>InChI=1S/C19H16O4/c1-12-13(2)23-19-15(18(12)21...</td>\n",
       "      <td>2</td>\n",
       "    </tr>\n",
       "  </tbody>\n",
       "</table>\n",
       "<p>1058 rows × 2 columns</p>\n",
       "</div>"
      ],
      "text/plain": [
       "                                                  InChI  N\n",
       "0     InChI=1S/C19H16O4/c1-12(20)11-15(13-7-3-2-4-8-...  1\n",
       "1     InChI=1S/C19H16O4/c20-16-7-1-14(2-8-16)5-11-18...  2\n",
       "3     InChI=1S/C19H16O4/c20-16-7-1-14(2-8-16)5-11-18...  1\n",
       "6     InChI=1S/C19H16O4/c1-3-23-19(21)17-16(12-7-5-4...  1\n",
       "7     InChI=1S/C19H16O4/c1-12-8-16(22-11-13(2)20)19-...  1\n",
       "...                                                 ... ..\n",
       "1605  InChI=1S/C19H16O4/c20-18(21)16-9-5-4-8-15(16)1...  4\n",
       "1606  InChI=1S/C19H16O4/c1-11(19(21)22)17-13-7-3-5-9...  2\n",
       "1607  InChI=1S/C19H16O4/c1-2-22-17-12-11-14(13-7-3-4...  2\n",
       "1608  InChI=1S/C19H16O4/c1-2-7-23-19(22)17-11-15-9-1...  2\n",
       "1609  InChI=1S/C19H16O4/c1-12-13(2)23-19-15(18(12)21...  2\n",
       "\n",
       "[1058 rows x 2 columns]"
      ]
     },
     "execution_count": 6,
     "metadata": {},
     "output_type": "execute_result"
    }
   ],
   "source": [
    "filtered"
   ]
  },
  {
   "cell_type": "markdown",
   "metadata": {},
   "source": [
    "Here we can draw grid of all the matched candidates"
   ]
  },
  {
   "cell_type": "code",
   "execution_count": 7,
   "metadata": {},
   "outputs": [
    {
     "name": "stderr",
     "output_type": "stream",
     "text": [
      "/home/pc-1/anaconda3/lib/python3.6/site-packages/ipykernel_launcher.py:1: SettingWithCopyWarning: \n",
      "A value is trying to be set on a copy of a slice from a DataFrame.\n",
      "Try using .loc[row_indexer,col_indexer] = value instead\n",
      "\n",
      "See the caveats in the documentation: https://pandas.pydata.org/pandas-docs/stable/user_guide/indexing.html#returning-a-view-versus-a-copy\n",
      "  \"\"\"Entry point for launching an IPython kernel.\n",
      "/home/pc-1/anaconda3/lib/python3.6/site-packages/ipykernel_launcher.py:2: SettingWithCopyWarning: \n",
      "A value is trying to be set on a copy of a slice from a DataFrame.\n",
      "Try using .loc[row_indexer,col_indexer] = value instead\n",
      "\n",
      "See the caveats in the documentation: https://pandas.pydata.org/pandas-docs/stable/user_guide/indexing.html#returning-a-view-versus-a-copy\n",
      "  \n"
     ]
    }
   ],
   "source": [
    "filtered['mol'] = filtered.InChI.apply(MolFromInchi) \n",
    "filtered['N_str'] = filtered.N.apply(str) \n",
    "#img=Draw.MolsToGridImage(list(filtered.mol)[:50],molsPerRow=2,subImgSize=(600,600), legends=list(filtered.N_str)[:50]) \n",
    "#img #uncomment to get the image"
   ]
  },
  {
   "cell_type": "markdown",
   "metadata": {},
   "source": [
    "Here we will try to map fragmentation with the remaining candidates"
   ]
  },
  {
   "cell_type": "code",
   "execution_count": 8,
   "metadata": {},
   "outputs": [],
   "source": [
    "from rdkit import Chem\n",
    "from rdkit.Chem.inchi import *\n",
    "from pyparsing import * #required for parse_formula\n",
    "from rdkit.Chem import rdmolops"
   ]
  },
  {
   "cell_type": "code",
   "execution_count": null,
   "metadata": {},
   "outputs": [],
   "source": []
  },
  {
   "cell_type": "code",
   "execution_count": 9,
   "metadata": {},
   "outputs": [],
   "source": [
    "class fragments():\n",
    "    def __init__(self, formula):\n",
    "        self.formula = formula  \n",
    "        self.parsed_formula=self.parse_formula()\n",
    "       \n",
    "       \n",
    "    def parse_formula(self):\n",
    "        elements = [(1, \"H\"),(2, \"He\"),(3, \"Li\"),(4, \"Be\"),(5, \"B\"),(6, \"C\"),(7, \"N\"),(8, \"O\"),(9, \"F\"),(10, \"Ne\"),(11, \"Na\"),(12, \"Mg\"),(13, \"Al\"),(14, \"Si\"),(15, \"P\"),(16, \"S\"),(17, \"Cl\"),(18, \"Ar\"),(19, \"K\"),(20, \"Ca\"),(21, \"Sc\"),(22, \"Ti\"),(23, \"V\"),(24, \"Cr\"),(25, \"Mn\"),(26, \"Fe\"),(27, \"Co\"),(28, \"Ni\"),(29, \"Cu\"),(30, \"Zn\"),(31, \"Ga\"),(32, \"Ge\"),(33, \"As\"),(34, \"Se\"),(35, \"Br\"),(36, \"Kr\"),(37, \"Rb\"),(38, \"Sr\"),(39, \"Y\"),(40, \"Zr\"),(41, \"Nb\"),(42, \"Mo\"),(43, \"Tc\"),(44, \"Ru\"),(45, \"Rh\"),(46, \"Pd\"),(47, \"Ag\"),(48, \"Cd\"),(49, \"In\"),(50, \"Sn\"),(51, \"Sb\"),(52, \"Te\"),(53, \"I\"),(54, \"Xe\"),(55, \"Cs\"),(56, \"Ba\"),(57, \"La\"),(58, \"Ce\"),(59, \"Pr\"),(60, \"Nd\"),(61, \"Pm\"),(62, \"Sm\"),(63, \"Eu\"),(64, \"Gd\"),(65, \"Tb\"),(66, \"Dy\"),(67, \"Ho\"),(68, \"Er\"),(69, \"Tm\"),(70, \"Yb\"),(71, \"Lu\"),(72, \"Hf\"),(73, \"Ta\"),(74, \"W\"),(75, \"Re\"),(76, \"Os\"),(77, \"Ir\"),(78, \"Pt\"),(79, \"Au\"),(80, \"Hg\"),(81, \"Tl\"),(82, \"Pb\"),(83, \"Bi\"),(84, \"Po\"),(85, \"At\"),(86, \"Rn\"),(87, \"Fr\"),(88, \"Ra\"),(89, \"Ac\"),(90, \"Th\"),(91, \"Pa\"),(92, \"U\"),(93, \"Np\"),(94, \"Pu\"),(95, \"Am\"),(96, \"Cm\"),(97, \"Bk\"),(98, \"Cf\"),(99, \"Es\"),(100, \"Fm\"),(101, \"Md\"),(102, \"No\"),(103, \"Lr\"),(104, \"Rf\"),(105, \"Db\"),(106, \"Sg\"),(107, \"Bh\"),(108, \"Hs\"),(109, \"Mt\"),(110, \"Ds\"),(111, \"Rg\"),(112, \"Cn\"),(113, \"Uut\"),(114, \"Uuq\"),(115, \"Uup\"),(116, \"Uuh\"),(118, \"Uuo\")]\n",
    "        el_list = sorted(list(zip(*elements))[1],key=lambda x:len(x),reverse=True)\n",
    "        el = Or([Word(x) for x in el_list])\n",
    "        isotop = el ^ Group(Suppress(\"[\") + OneOrMore(Word(nums)) + el + Suppress(\"]\")).setParseAction(lambda str, location, tokens: \"\".join(tokens[0]))\n",
    "        parser = OneOrMore(Group(isotop + ZeroOrMore(Word(nums))))\n",
    "        parsed = parser.parseString(self.formula)\n",
    "        parsed_formula={}\n",
    "        for p in parsed:\n",
    "            if p[0] =='H': continue\n",
    "            if len(p) == 2:\n",
    "                parsed_formula[p[0]] = int(p[1])\n",
    "            else:\n",
    "                parsed_formula[p[0]]=1\n",
    "        return parsed_formula"
   ]
  },
  {
   "cell_type": "code",
   "execution_count": 44,
   "metadata": {},
   "outputs": [],
   "source": [
    "class mapped_fragments():\n",
    "    def __init__(self, inchi, fragment_formulas, labeled, N_labels):\n",
    "        if labeled ==False:\n",
    "            self.mol_list = [MolFromInchi(inchi)]\n",
    "        else:\n",
    "            self.mol_list =run_16O18O_exchange (inchi, N_labels)\n",
    "    \n",
    "        self.fragments = []\n",
    "        for formula in fragment_formulas:\n",
    "            frag = fragments(formula)\n",
    "            self.fragments.append(frag.parsed_formula)\n",
    "        self.number_of_fragments = len(fragment_formulas)\n",
    "        self.number_of_mapped_fragments = self.map_fragments()\n",
    "        \n",
    "        \n",
    "    @staticmethod        \n",
    "    def number_atoms(parsed_formula):\n",
    "        len=0\n",
    "        for n in parsed_formula.values():\n",
    "            len+=n\n",
    "        return len  \n",
    "    \n",
    "    def transform_bond_to_atom_subgraph(self,mol, bond_subgraph):\n",
    "        atom_subgraph=set()\n",
    "        bond_subgraph = list(bond_subgraph)\n",
    "        for bond in bond_subgraph:\n",
    "            atom_subgraph.add(mol.GetBondWithIdx(bond).GetBeginAtomIdx())\n",
    "            atom_subgraph.add(mol.GetBondWithIdx(bond).GetEndAtomIdx())\n",
    "        return atom_subgraph\n",
    "    \n",
    "    \n",
    "    def get_formula_dict_for_subgraph(self, mol, atom_subgraph):\n",
    "        formula_dict={}\n",
    "        for atom_number in atom_subgraph:\n",
    "            atom = mol.GetAtomWithIdx(atom_number)\n",
    "\n",
    "            if atom.GetIsotope()!=0:\n",
    "                atom_symb =str(atom.GetIsotope())+atom.GetSymbol()\n",
    "            else:\n",
    "                atom_symb = atom.GetSymbol()\n",
    "            if atom_symb not in formula_dict.keys():\n",
    "                formula_dict[atom_symb] = 1\n",
    "            else:\n",
    "                formula_dict[atom_symb] += 1\n",
    "        return formula_dict\n",
    "    def get_all_subgraphs_of_lengthN(self, mol, N):\n",
    "        all_subgraphs_of_lengthN = set()\n",
    "        all_formula_dict = []\n",
    "        all_bond_subgraphs = rdmolops.FindAllSubgraphsOfLengthMToN(mol, 1, N)\n",
    "        for bond_subgraphs in all_bond_subgraphs:\n",
    "            for bond_subgraph in bond_subgraphs:\n",
    "                atom_subgraph = self.transform_bond_to_atom_subgraph(mol, bond_subgraph)\n",
    "                if len(atom_subgraph)==N:\n",
    "                    all_subgraphs_of_lengthN.add(tuple(atom_subgraph))\n",
    "\n",
    "        for atom_subgraph in all_subgraphs_of_lengthN:\n",
    "            all_formula_dict.append(self.get_formula_dict_for_subgraph(mol, atom_subgraph))\n",
    "\n",
    "        return all_formula_dict\n",
    "    \n",
    "    \n",
    "    \n",
    "    def check_formula(self,mol, parsed_formula, N):\n",
    "        all_formula_dict = self.get_all_subgraphs_of_lengthN(mol, N)\n",
    "        for formula in all_formula_dict:\n",
    "            if parsed_formula==formula:\n",
    "                return 1\n",
    "        return 0\n",
    "    def map_fragments(self):\n",
    "        checked_all_mols=[]\n",
    "        for mol in self.mol_list:\n",
    "            checked = []\n",
    "            for formula in self.fragments:\n",
    "                checked.append(self.check_formula(mol, formula, self.number_atoms(formula)))\n",
    "            checked_all_mols.append(sum(checked))\n",
    "            try:\n",
    "                return max(checked_all_mols)\n",
    "            except:\n",
    "                return 0"
   ]
  },
  {
   "cell_type": "code",
   "execution_count": 11,
   "metadata": {},
   "outputs": [],
   "source": [
    "inchi ='InChI=1S/C16H13N3O3/c1-22-16(21)19-15-17-12-8-7-11(9-13(12)18-15)14(20)10-5-3-2-4-6-10/h2-9H,1H3,(H2,17,18,19,21)'"
   ]
  },
  {
   "cell_type": "code",
   "execution_count": 12,
   "metadata": {},
   "outputs": [],
   "source": [
    "def calculate_mapped_frags(inchi, frags, labeled, N_labels):\n",
    "    return mapped_fragments(inchi, frags, labeled, N_labels).map_fragments()"
   ]
  },
  {
   "cell_type": "code",
   "execution_count": 32,
   "metadata": {},
   "outputs": [],
   "source": [
    "'''\n",
    "#ketoprofen\n",
    "fragsO18=[\"C15H13[18O]\", \"C14H10[18O]\",\"C10H9[18O]3\", \"C9H7[18O]\", \"C7H5[18O]\"]\n",
    "frags=[\"C15H13O\", \"C14H10O\",\"C10H9O3\", \"C9H7O\", \"C7H5O\"]\n",
    "\n",
    "#testosteroe\n",
    "fragsO18=[\"C19H27[18O]\", \"C19H25\", \"C8H11[18O]\",\"C7H9[18O]\", \"C6H9[18O]\"]\n",
    "frags=[\"C19H27O\", \"C19H25\", \"C8H11O\",\"C7H9O\", \"C6H9O\"]\n",
    "\n",
    "\n",
    "\n",
    "#fenobirate\n",
    "fragsO18=[\"C13H10[18O]Cl\", \"C7H4[18O]Cl\", \"C7H5[18O]O\"]\n",
    "frags=[\"C13H10OCl\", \"C7H4OCl\", \"C7H5O2\"]\n",
    "\n",
    "\n",
    "#budesonide\n",
    "fragsO18=[\"C25H33[18O]2O3\", \"C25H31[18O]2O2\", \"C21H25[18O]2O2\", \"C21H23[18O]O2\", \"C12H13[18O]\", \"C10H11[18O]\"]\n",
    "frags=[\"C25H33O5\", \"C25H31O4\", \"C21H25O4\", \"C21H23O3\", \"C12H13O\", \"C10H11O\"]\n",
    "\n",
    "\n",
    "\n",
    "#mebendazole\n",
    "fragsO18=[\"C15H10N3[18O]O\", \"C9H4N3[18O]O\", \"C7H5[18O]\"]\n",
    "frags=[\"C15H10N3O2\", \"C9H4N3O2\", \"C7H5O\"]\n",
    "'''\n",
    "#warfarin\n",
    "fragsO18=[\"C19H15O3\", \"C16H11O3\",\"C15H11O2\",\"C13H11O\", \"C9H7O3\",\"C10H11[18O]\"]\n",
    "frags=[\"C19H15O3\", \"C16H11O3\",\"C15H11O2\",\"C13H11O\",\"C9H7O3\",\"C10H11O\"]"
   ]
  },
  {
   "cell_type": "code",
   "execution_count": 14,
   "metadata": {},
   "outputs": [],
   "source": [
    "from rdkit.Chem.Draw import IPythonConsole"
   ]
  },
  {
   "cell_type": "code",
   "execution_count": 15,
   "metadata": {},
   "outputs": [
    {
     "data": {
      "text/plain": [
       "1058"
      ]
     },
     "execution_count": 15,
     "metadata": {},
     "output_type": "execute_result"
    }
   ],
   "source": [
    "len(filtered)"
   ]
  },
  {
   "cell_type": "code",
   "execution_count": 16,
   "metadata": {},
   "outputs": [],
   "source": [
    "filtered_no_label=filtered.copy(deep=True)\n",
    "filtered_O18 = filtered.copy(deep=True)"
   ]
  },
  {
   "cell_type": "code",
   "execution_count": 17,
   "metadata": {
    "scrolled": false
   },
   "outputs": [
    {
     "data": {
      "application/vnd.jupyter.widget-view+json": {
       "model_id": "e3d009a4acd74374bd3409b4609b1848",
       "version_major": 2,
       "version_minor": 0
      },
      "text/plain": [
       "VBox(children=(HBox(children=(IntProgress(value=0, description='0.00%', max=133), Label(value='0 / 133'))), HB…"
      ]
     },
     "metadata": {},
     "output_type": "display_data"
    }
   ],
   "source": [
    "#replace parallel_apply by progress_apply in windows. But will use 1 core\n",
    "filtered_O18['mapped_frags'] = filtered_O18.InChI.parallel_apply(calculate_mapped_frags, frags=fragsO18, labeled=True, N_labels=N)"
   ]
  },
  {
   "cell_type": "code",
   "execution_count": 18,
   "metadata": {},
   "outputs": [
    {
     "data": {
      "application/vnd.jupyter.widget-view+json": {
       "model_id": "b8097d354988428abdb97710a97985bc",
       "version_major": 2,
       "version_minor": 0
      },
      "text/plain": [
       "VBox(children=(HBox(children=(IntProgress(value=0, description='0.00%', max=133), Label(value='0 / 133'))), HB…"
      ]
     },
     "metadata": {},
     "output_type": "display_data"
    }
   ],
   "source": [
    "#replace parallel_apply by progress_apply in windows. But wil use 1 core\n",
    "filtered_no_label['mapped_frags'] = filtered_no_label.InChI.parallel_apply(calculate_mapped_frags, frags=frags, labeled=False, N_labels=N)"
   ]
  },
  {
   "cell_type": "code",
   "execution_count": 19,
   "metadata": {},
   "outputs": [],
   "source": [
    "a1=filtered_no_label[filtered_no_label.mapped_frags==len(frags)]\n",
    "a2=filtered_O18[filtered_O18.mapped_frags==len(fragsO18)]"
   ]
  },
  {
   "cell_type": "code",
   "execution_count": 21,
   "metadata": {},
   "outputs": [],
   "source": [
    "with open ('./results/'+formula+'.txt', 'a') as f:\n",
    "    f.write('Number of filtered candidaes with matched number of peaks: ' + str(len(a1))+'\\n')\n",
    "    f.write('Number of filtered candidaes with matched number of peaks with O18: '+ str(len(a2))+'\\n')"
   ]
  },
  {
   "cell_type": "code",
   "execution_count": 22,
   "metadata": {},
   "outputs": [],
   "source": [
    "a2.to_csv('./results/final_lists/'+formula+'.csv')"
   ]
  },
  {
   "cell_type": "code",
   "execution_count": null,
   "metadata": {},
   "outputs": [],
   "source": []
  }
 ],
 "metadata": {
  "kernelspec": {
   "display_name": "Python 3",
   "language": "python",
   "name": "python3"
  },
  "language_info": {
   "codemirror_mode": {
    "name": "ipython",
    "version": 3
   },
   "file_extension": ".py",
   "mimetype": "text/x-python",
   "name": "python",
   "nbconvert_exporter": "python",
   "pygments_lexer": "ipython3",
   "version": "3.8.3"
  }
 },
 "nbformat": 4,
 "nbformat_minor": 4
}
